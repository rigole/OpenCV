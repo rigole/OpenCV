{
 "cells": [
  {
   "cell_type": "code",
   "execution_count": 1,
   "metadata": {
    "collapsed": true
   },
   "outputs": [],
   "source": [
    "# Data Preparation, Training and evaluation\n",
    "import numpy as np\n",
    "import cv2\n",
    "\n",
    "image = cv2.imread('images/digits.png')\n",
    "gray = cv2.cvtColor(image, cv2.COLOR_BGR2GRAY)\n",
    "small = cv2.pyrDown(image)\n",
    "cv2.imshow('Digits Image', small)\n",
    "cv2.waitKey(0)\n",
    "cv2.destroyAllWindows()"
   ]
  },
  {
   "cell_type": "code",
   "execution_count": null,
   "outputs": [],
   "source": [
    "# Split the image to 500 cells, each 20 x 20 size\n",
    "cells = [np.hsplit(row,100) for row in np.vsplit(gray, 50)]\n",
    "\n",
    "\n",
    "# convert the list data type into a numpy array of shape (50, 100, 20, 20)\n",
    "x = np.array(cells)\n",
    "print(\"The shape of our cells array: \" + str(x.shape))"
   ],
   "metadata": {
    "collapsed": false,
    "pycharm": {
     "name": "#%%\n"
    }
   }
  }
 ],
 "metadata": {
  "kernelspec": {
   "display_name": "Python 3",
   "language": "python",
   "name": "python3"
  },
  "language_info": {
   "codemirror_mode": {
    "name": "ipython",
    "version": 2
   },
   "file_extension": ".py",
   "mimetype": "text/x-python",
   "name": "python",
   "nbconvert_exporter": "python",
   "pygments_lexer": "ipython2",
   "version": "2.7.6"
  }
 },
 "nbformat": 4,
 "nbformat_minor": 0
}