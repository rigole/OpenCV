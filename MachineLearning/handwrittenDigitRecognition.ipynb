{
 "cells": [
  {
   "cell_type": "code",
   "execution_count": 1,
   "metadata": {
    "collapsed": true
   },
   "outputs": [],
   "source": [
    "# Data Preparation, Training and evaluation\n",
    "import numpy as np\n",
    "import cv2\n",
    "\n",
    "image = cv2.imread('images/digits.png')\n",
    "gray = cv2.cvtColor(image, cv2.COLOR_BGR2GRAY)\n",
    "small = cv2.pyrDown(image)\n",
    "cv2.imshow('Digits Image', small)\n",
    "cv2.waitKey(0)\n",
    "cv2.destroyAllWindows()"
   ]
  },
  {
   "cell_type": "code",
   "execution_count": 3,
   "outputs": [
    {
     "name": "stdout",
     "output_type": "stream",
     "text": [
      "The shape of our cells array: (50, 100, 20, 20)\n"
     ]
    }
   ],
   "source": [
    "# Split the image to 500 cells, each 20 x 20 size\n",
    "cells = [np.hsplit(row,100) for row in np.vsplit(gray, 50)]\n",
    "\n",
    "\n",
    "# convert the list data type into a numpy array of shape (50, 100, 20, 20)\n",
    "x = np.array(cells)\n",
    "print(\"The shape of our cells array: \" + str(x.shape))"
   ],
   "metadata": {
    "collapsed": false,
    "pycharm": {
     "name": "#%%\n"
    }
   }
  },
  {
   "cell_type": "code",
   "execution_count": 4,
   "outputs": [],
   "source": [
    "#split the full data set into to training and set\n",
    "train = x[:,:70].reshape(-1, 400).astype(np.float32) # size = (2500, 400)\n",
    "test = x[:,70:100].reshape(-1,400).astype(np.float32) # Size = (2500,400)"
   ],
   "metadata": {
    "collapsed": false,
    "pycharm": {
     "name": "#%%\n"
    }
   }
  },
  {
   "cell_type": "code",
   "execution_count": 5,
   "outputs": [
    {
     "name": "stdout",
     "output_type": "stream",
     "text": [
      "Accuracy is = 93.47%\n"
     ]
    }
   ],
   "source": [
    " # Create labels for train and test data\n",
    "k = [0, 1,2,3,4,5,6,7,8,9]\n",
    "train_labels = np.repeat(k,350)[:,np.newaxis]\n",
    "test_labels = np.repeat(k,150)[:,np.newaxis]\n",
    "\n",
    "#Initiate knn, train the data, then test it with test data for k=3\n",
    "knn = cv2.ml.KNearest_create()\n",
    "knn.train(train,cv2.ml.ROW_SAMPLE, train_labels)\n",
    "ret, result, neighbors, distance = knn.findNearest(test, k=3)\n",
    "\n",
    "# Now we check the accuracy of classification\n",
    "# For that compare the result with test labels and check which are wrong\n",
    "matches = result == test_labels\n",
    "correct = np.count_nonzero(matches)\n",
    "accuracy = correct * (100.0 / result.size)\n",
    "print(\"Accuracy is = %.2f\" % accuracy + \"%\")\n"
   ],
   "metadata": {
    "collapsed": false,
    "pycharm": {
     "name": "#%%\n"
    }
   }
  },
  {
   "cell_type": "code",
   "execution_count": 6,
   "outputs": [],
   "source": [
    "import numpy as np\n",
    "import cv2\n",
    "\n",
    "# Define our functions\n",
    "\n",
    "def x_cord_contour(contour):\n",
    "    #this function take a contour from findContours\n",
    "    # it then outputs the x centroid coordinates\n",
    "\n",
    "    if cv2.contourArea(contour) > 10:\n",
    "        M = cv2.moments(contour)\n",
    "        return int (M['m10'] / M['m00'])\n",
    "\n",
    "def makeSquare(not_square):\n",
    "    #this function takes an image and makes the dimensions square\n",
    "    #it adds black pixels as the padding where needed\n",
    "\n",
    "    BLACK = [0,0,0]\n",
    "    img_dim = not_square.shape\n",
    "    height = img_dim[0]\n",
    "    width = img_dim[1]\n",
    "\n",
    "    if (height ==  width):\n",
    "        square = not_square\n",
    "        return square\n",
    "\n",
    "    else:\n",
    "        doublesize = cv2.resize(not_square,(2*width, 1*height), interpolation = cv2.INTER_CUBIC)\n",
    "        height = height * 2\n",
    "        width = width * 2\n",
    "        if (height > width):\n",
    "            pad = (height - width)/2\n",
    "            doublesize_square = cv2.copyMakeBorder(doublesize, 0, 0,pad,  pad, cv2.BORDER_CONSTANT,value=BLACK)\n",
    "\n",
    "        else:\n",
    "            pad = (width - height)/2\n",
    "            doublesize_square = cv2.copyMakeBorder(doublesize, 0, 0,pad,  pad, cv2.BORDER_CONSTANT,value=BLACK)\n",
    "\n",
    "\n",
    "    doublesize_square_dim = doublesize_square.shape\n",
    "    return doublesize_square\n",
    "\n",
    "\n",
    "def resize_to_pixel(dimensions, image):\n",
    "\n",
    "    buffer_pix = 4\n",
    "    dimensions = dimensions - buffer_pix\n",
    "    squared = image\n",
    "    r = float(dimensions) / squared.shape[1]\n",
    "    dim = (dimensions, int(squared.shape[0] * r))\n",
    "    resized = cv2.resize(image, dim, interpolation = cv2.INTER_AREA)\n",
    "    img_dim2 = resized.shape\n",
    "    height_r = img_dim2[0]\n",
    "    width_r = img_dim2[1]\n",
    "    BLACK = [0,0,0]\n",
    "    if (height_r > width_r):\n",
    "        resized = cv2.copyMakeBorder(resized,0,0,0,1,cv2.BORDER_CONSTANT, value=BLACK)\n",
    "    if(height_r < width_r):\n",
    "        resized = cv2.copyMakeBorder(resized,1,0,0,0,cv2.BORDER_CONSTANT,value=BLACK)\n",
    "\n",
    "    p = 2\n",
    "    ReSizedImg = cv2.copyMakeBorder(resized,p,p,p,p, cv2.BORDER_CONSTANT,value=BLACK)\n",
    "    img_dim = ReSizedImg.shape\n",
    "    height = img_dim[0]\n",
    "    width = img_dim[1]\n",
    "    return ReSizedImg\n",
    "\n",
    "\n",
    "\n",
    "\n"
   ],
   "metadata": {
    "collapsed": false,
    "pycharm": {
     "name": "#%%\n"
    }
   }
  },
  {
   "cell_type": "code",
   "execution_count": 14,
   "outputs": [
    {
     "ename": "TypeError",
     "evalue": "'<' not supported between instances of 'NoneType' and 'NoneType'",
     "output_type": "error",
     "traceback": [
      "\u001B[0;31m---------------------------------------------------------------------------\u001B[0m",
      "\u001B[0;31mTypeError\u001B[0m                                 Traceback (most recent call last)",
      "\u001B[0;32m<ipython-input-14-db0529de8592>\u001B[0m in \u001B[0;36m<module>\u001B[0;34m\u001B[0m\n\u001B[1;32m     14\u001B[0m \u001B[0;34m\u001B[0m\u001B[0m\n\u001B[1;32m     15\u001B[0m \u001B[0;31m# Sort out contours left to right by using their x coordinates\u001B[0m\u001B[0;34m\u001B[0m\u001B[0;34m\u001B[0m\u001B[0;34m\u001B[0m\u001B[0m\n\u001B[0;32m---> 16\u001B[0;31m \u001B[0mcontours\u001B[0m \u001B[0;34m=\u001B[0m \u001B[0msorted\u001B[0m\u001B[0;34m(\u001B[0m\u001B[0mcontours\u001B[0m\u001B[0;34m,\u001B[0m \u001B[0mkey\u001B[0m\u001B[0;34m=\u001B[0m \u001B[0mx_cord_contour\u001B[0m\u001B[0;34m,\u001B[0m \u001B[0mreverse\u001B[0m \u001B[0;34m=\u001B[0m \u001B[0;32mFalse\u001B[0m\u001B[0;34m)\u001B[0m\u001B[0;34m\u001B[0m\u001B[0;34m\u001B[0m\u001B[0m\n\u001B[0m\u001B[1;32m     17\u001B[0m \u001B[0;34m\u001B[0m\u001B[0m\n\u001B[1;32m     18\u001B[0m \u001B[0;31m#create empty array to store entire number\u001B[0m\u001B[0;34m\u001B[0m\u001B[0;34m\u001B[0m\u001B[0;34m\u001B[0m\u001B[0m\n",
      "\u001B[0;31mTypeError\u001B[0m: '<' not supported between instances of 'NoneType' and 'NoneType'"
     ]
    }
   ],
   "source": [
    "import numpy as np\n",
    "import cv2\n",
    "\n",
    "image = cv2.imread('images/numbers.jpg')\n",
    "gray = cv2.cvtColor(image, cv2.COLOR_BGR2GRAY)\n",
    "\n",
    "#blur the image and finding edges\n",
    "blurred = cv2.GaussianBlur(gray, (5, 5), 0)\n",
    "\n",
    "edged = cv2.Canny(blurred, 30, 150)\n",
    "\n",
    "#Finding Countours\n",
    "contours, _ = cv2.findContours(edged.copy(), cv2.RETR_EXTERNAL, cv2.CHAIN_APPROX_SIMPLE)\n",
    "\n",
    "# Sort out contours left to right by using their x coordinates\n",
    "contours = sorted(contours, key= x_cord_contour, reverse = False)\n",
    "\n",
    "#create empty array to store entire number\n",
    "full_number = []\n",
    "\n",
    "# loop over the contours\n",
    "for c in contours:\n",
    "    #compute the bounding box for the rectangle\n",
    "    (x, y, w, h) = cv2.boundingRect(c)\n",
    "    #cv2.drawContours(image, contours, -1, (0,255,0), 3)\n",
    "    #cv2.imshow(\"Contours\", image)\n",
    "    if w >= 5 and h >= 25:\n",
    "        roi = blurred[y:y +h, x:x + w]\n",
    "        ret,roi = cv2. cv2.threshold(roi, 127, 255, cv2.THRESH_BINARY_INV)\n",
    "        squared = makeSquare(roi)\n",
    "        final = resize_to_pixel(20, squared)\n",
    "        cv2.imshow(\"final\", final)\n",
    "        final_array = final.reshape((1, 400))\n",
    "        final_array = final_array.astype(np.float32)\n",
    "        ret, result, neighbors, dist = knn.findNearest(final_array, k=1)\n",
    "        number = str(int(float(result[0])))\n",
    "        full_number.append(number)\n",
    "        # draw a rectangle around the digit  they show what th digit was classified as\n",
    "        cv2.rectangle(image, (x,y), (x + w, y + h), (0, 0 , 255), 2)\n",
    "        cv2.putText(image, number, (x, y + 155), cv2.FONT_HERSHEY_COMPLEX, 2, (255, 0, 0), 2)\n",
    "        cv2.imshow(\"image\", image)\n",
    "        cv2.waitKey(0)\n",
    "\n",
    "cv2.destroyAllWindows()\n",
    "print(\"the Number is: \" + ''.joint(full_number))\n"
   ],
   "metadata": {
    "collapsed": false,
    "pycharm": {
     "name": "#%%\n"
    }
   }
  },
  {
   "cell_type": "code",
   "execution_count": null,
   "outputs": [],
   "source": [],
   "metadata": {
    "collapsed": false,
    "pycharm": {
     "name": "#%%\n"
    }
   }
  }
 ],
 "metadata": {
  "kernelspec": {
   "display_name": "Python 3",
   "language": "python",
   "name": "python3"
  },
  "language_info": {
   "codemirror_mode": {
    "name": "ipython",
    "version": 2
   },
   "file_extension": ".py",
   "mimetype": "text/x-python",
   "name": "python",
   "nbconvert_exporter": "python",
   "pygments_lexer": "ipython2",
   "version": "2.7.6"
  }
 },
 "nbformat": 4,
 "nbformat_minor": 0
}