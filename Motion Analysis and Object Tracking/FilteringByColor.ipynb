{
 "cells": [
  {
   "cell_type": "code",
   "execution_count": null,
   "metadata": {
    "collapsed": true
   },
   "outputs": [],
   "source": [
    "import cv2\n",
    "import numpy as np\n",
    "\n",
    "# Initialize webcam\n",
    "\n",
    "\n",
    "cap = cv2.VideoCapture(0)\n",
    "# define range of blue color in HSV\n",
    "lower_blue = np.array([125,0,0])\n",
    "upper_blue = np.array([175,255,255])\n",
    "\n",
    "\n",
    "# loop until break statement is executed\n",
    "while True:\n",
    "\n",
    "    # Read webcam image\n",
    "    ret, frame = cap.read()\n",
    "\n",
    "    # Convert image from RGG/BGR to HSV so we easily filter\n",
    "    hsv_img = cv2.cvtColor(frame, cv2.COLOR_BGR2HSV)\n",
    "\n",
    "    # Use inRange to capture only the values between lower & upper_blue\n",
    "    mask = cv2.inRange(hsv_img, lower_blue, upper_blue)\n",
    "\n"
   ]
  }
 ],
 "metadata": {
  "kernelspec": {
   "display_name": "Python 3",
   "language": "python",
   "name": "python3"
  },
  "language_info": {
   "codemirror_mode": {
    "name": "ipython",
    "version": 2
   },
   "file_extension": ".py",
   "mimetype": "text/x-python",
   "name": "python",
   "nbconvert_exporter": "python",
   "pygments_lexer": "ipython2",
   "version": "2.7.6"
  }
 },
 "nbformat": 4,
 "nbformat_minor": 0
}