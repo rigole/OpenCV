{
 "cells": [
  {
   "cell_type": "code",
   "execution_count": null,
   "metadata": {
    "collapsed": true,
    "pycharm": {
     "name": "#%% Live sketch Usng Webcam\n"
    }
   },
   "outputs": [],
   "source": [
    "import  cv2 as cv\n",
    "import numpy as np\n",
    "\n",
    "def sketch(image):\n",
    "    #convert image to grayscale\n",
    "    img_gray = cv.cvtColor(image, cv.COLOR_BGR2GRAY)\n",
    "\n",
    "    # Clean up image using Guassian Blur\n",
    "    img_gray_blur = cv.GaussianBlur(img_gray, (5,5), 0)\n",
    "\n",
    "    #Extract edges\n",
    "    canny_edges = cv.Canny(img_gray_blur, 10,70)\n",
    "\n",
    "    # Do an invert binarize the image\n",
    "    ret, mask = cv.threshold(canny_edges, 70, 255, cv.THRESH_BINARY_INV)\n",
    "    return mask\n",
    "\n",
    "\n",
    "\n",
    "\n"
   ]
  }
 ],
 "metadata": {
  "kernelspec": {
   "display_name": "Python 3",
   "language": "python",
   "name": "python3"
  },
  "language_info": {
   "codemirror_mode": {
    "name": "ipython",
    "version": 2
   },
   "file_extension": ".py",
   "mimetype": "text/x-python",
   "name": "python",
   "nbconvert_exporter": "python",
   "pygments_lexer": "ipython2",
   "version": "2.7.6"
  }
 },
 "nbformat": 4,
 "nbformat_minor": 0
}