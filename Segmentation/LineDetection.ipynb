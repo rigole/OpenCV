{
 "cells": [
  {
   "cell_type": "code",
   "execution_count": 1,
   "metadata": {
    "collapsed": true,
    "pycharm": {
     "name": "#%%\n"
    }
   },
   "outputs": [],
   "source": [
    "import cv2\n",
    "import numpy as np\n",
    "\n",
    "image = cv2.imread('images/soduku.jpg')\n",
    "\n",
    "# Grayscale and Canny Edges extracted\n",
    "gray = cv2.cvtColor(image, cv2.COLOR_BGR2GRAY)\n",
    "edges = cv2.Canny(gray, 100, 170, apertureSize = 3)\n",
    "\n",
    "# Run HoughLines using a rho accuracy of 1 pixel\n",
    "# theta accuracy of np.pi / 180 which is 1 degree\n",
    "# Our line threshold is set to 240 (number of points on line)\n",
    "lines = cv2.HoughLines(edges, 1, np.pi / 180, 240)\n",
    "\n",
    "# We iterate through each line and convert it to the format\n",
    "# required by cv.lines (i.e. requiring end points)\n",
    "for line in lines:\n",
    "     for rho, theta in line:\n",
    "         a = np.cos(theta)\n",
    "         b = np.sin(theta)\n",
    "         x0 = a * rho\n",
    "         y0 = b * rho\n",
    "         x1 = int(x0 + 1000 * (-b))\n",
    "         y1 = int(y0 + 1000 * a)\n",
    "         x2 = int(x0 - 1000 * (-b))\n",
    "         y2 = int(y0 - 1000 * a)\n",
    "         cv2.line(image, (x1, y1), (x2, y2), (255, 0, 0), 2)\n",
    "\n",
    "cv2.imshow('Hough Lines', image)\n",
    "cv2.waitKey(0)\n",
    "cv2.destroyAllWindows()"
   ]
  },
  {
   "cell_type": "code",
   "execution_count": 2,
   "outputs": [
    {
     "name": "stdout",
     "output_type": "stream",
     "text": [
      "(378, 1, 4)\n"
     ]
    }
   ],
   "source": [
    "import cv2\n",
    "import numpy as np\n",
    "#Probabilistic Hough Lines\n",
    "#Grayscale and Canny Edges extracted\n",
    "image = cv2.imread('images/soduku.jpg')\n",
    "gray = cv2.cvtColor(image, cv2.COLOR_BGR2GRAY)\n",
    "edges = cv2.Canny(gray, 100, 170, apertureSize = 3)\n",
    "\n",
    "\"\"\"\n",
    "Again we use the same rho and theta accuracies.However we specify a minimum vote(pts along line) of 100 and min\n",
    "line length of 5 pixels and max gap between line of 10 pixels\n",
    "\"\"\"\n",
    "lines = cv2.HoughLinesP(edges,1, np.pi / 180, 100, 5, 10)\n",
    "print(lines.shape)\n",
    "\n",
    "for line in lines:\n",
    "    for x1, y1, x2,y2 in line:\n",
    "       cv2.line(image, (x1, y1), (x2, y2), (0, 255, 0), 3)\n",
    "\n",
    "cv2. imshow(\"probabilistic Hough Lines\", image)\n",
    "cv2.waitKey(0)\n",
    "cv2.destroyAllWindows()"
   ],
   "metadata": {
    "collapsed": false,
    "pycharm": {
     "name": "#%%\n"
    }
   }
  },
  {
   "cell_type": "code",
   "execution_count": null,
   "outputs": [],
   "source": [
    "# Blob detection\n",
    "import cv2\n",
    "import numpy as np\n",
    "# read image\n",
    "image = cv2.imread(\"images/Sunflowers.jpg\", cv2.IMREAD_GRAYSCALE)\n",
    "\n",
    "# Set up the detector with default parameters\n",
    "detector = cv2.SimpleBlobDetector()\n",
    "\n",
    "# Detect blobs\n",
    "keypoints = detector.detect(image)\n",
    "\n",
    "# Draw detected blobs as red circles.\n",
    "# cv2.DRAW_MATCHES_FLAGS_DRAW_RICH_KEYPOINTS ensure the size of the circle corresponds to the size of blob\n",
    "blank = np.zeros((1, 1))\n",
    "blobs = cv2.drawKeypoints(image, keypoints, blank, (0, 255, 255),\n",
    "                          cv2.DRAW_MATCHES_FLAGS_DEFAULT)\n",
    "\n",
    "# Show keypoints\n",
    "cv2.imshow(\"Blobs\", blobs)\n",
    "cv2.waitKey(0)\n",
    "cv2.destroyAllWindows()"
   ],
   "metadata": {
    "collapsed": false,
    "pycharm": {
     "name": "#%%\n",
     "is_executing": true
    }
   }
  },
  {
   "cell_type": "code",
   "execution_count": null,
   "outputs": [],
   "source": [],
   "metadata": {
    "collapsed": false,
    "pycharm": {
     "name": "#%%\n"
    }
   }
  }
 ],
 "metadata": {
  "kernelspec": {
   "display_name": "Python 3",
   "language": "python",
   "name": "python3"
  },
  "language_info": {
   "codemirror_mode": {
    "name": "ipython",
    "version": 2
   },
   "file_extension": ".py",
   "mimetype": "text/x-python",
   "name": "python",
   "nbconvert_exporter": "python",
   "pygments_lexer": "ipython2",
   "version": "2.7.6"
  }
 },
 "nbformat": 4,
 "nbformat_minor": 0
}