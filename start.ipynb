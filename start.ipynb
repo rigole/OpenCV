{
 "cells": [
  {
   "cell_type": "code",
   "execution_count": 1,
   "metadata": {
    "collapsed": true
   },
   "outputs": [],
   "source": [
    "import cv2\n",
    "input = cv2.imread('image/weather.png')\n",
    "\n",
    "cv2.imshow('hello world', input)\n",
    "\n",
    "cv2.waitKey()\n",
    "cv2.destroyAllWindows()"
   ]
  },
  {
   "cell_type": "code",
   "execution_count": 5,
   "outputs": [],
   "source": [
    "import cv2\n",
    "input = cv2.imread('image/weather.png')\n",
    "\n",
    "cv2.imshow('hello world', input)\n",
    "\n",
    "cv2.waitKey()\n",
    "cv2.destroyAllWindows()"
   ],
   "metadata": {
    "collapsed": false,
    "pycharm": {
     "name": "#%%\n"
    }
   }
  },
  {
   "cell_type": "code",
   "execution_count": 7,
   "outputs": [
    {
     "name": "stdout",
     "output_type": "stream",
     "text": [
      "(945, 1000, 3)\n",
      "height of image : 945 pixels\n",
      "width of image : 1000 pixels\n"
     ]
    }
   ],
   "source": [
    "#dimensions of image open cv\n",
    "print (input.shape)\n",
    "print('height of image :' , int(input.shape[0]), 'pixels')\n",
    "print('width of image :' , int(input.shape[1]), 'pixels')"
   ],
   "metadata": {
    "collapsed": false,
    "pycharm": {
     "name": "#%%\n"
    }
   }
  },
  {
   "cell_type": "code",
   "execution_count": 8,
   "outputs": [
    {
     "data": {
      "text/plain": "True"
     },
     "execution_count": 8,
     "metadata": {},
     "output_type": "execute_result"
    }
   ],
   "source": [
    "#saving image\n",
    "cv2.imwrite('output.jpg', input)\n",
    "cv2.imwrite('output.png', input)\n"
   ],
   "metadata": {
    "collapsed": false,
    "pycharm": {
     "name": "#%%\n"
    }
   }
  },
  {
   "cell_type": "code",
   "execution_count": 3,
   "outputs": [
    {
     "data": {
      "text/plain": "-1"
     },
     "execution_count": 3,
     "metadata": {},
     "output_type": "execute_result"
    }
   ],
   "source": [
    "image = cv2.imread('output.jpg')\n",
    "cv2.imshow('Original', image)\n",
    "cv2.waitKey()"
   ],
   "metadata": {
    "collapsed": false,
    "pycharm": {
     "name": "#%%\n"
    }
   }
  },
  {
   "cell_type": "code",
   "execution_count": 4,
   "outputs": [
    {
     "data": {
      "text/plain": "-1"
     },
     "execution_count": 4,
     "metadata": {},
     "output_type": "execute_result"
    }
   ],
   "source": [
    "#Grayscaling color image\n",
    "import cv2\n",
    "gray_image = cv2.cvtColor(image, cv2.COLOR_BGR2GRAY)\n",
    "cv2.imshow('Gray', gray_image)\n",
    "cv2.waitKey()\n",
    "\n"
   ],
   "metadata": {
    "collapsed": false,
    "pycharm": {
     "name": "#%%\n"
    }
   }
  },
  {
   "cell_type": "code",
   "execution_count": 5,
   "outputs": [],
   "source": [
    "import numpy as np\n",
    "image = cv2.imread('output.jpg')\n",
    "\n",
    "\n"
   ],
   "metadata": {
    "collapsed": false,
    "pycharm": {
     "name": "#%%\n"
    }
   }
  },
  {
   "cell_type": "code",
   "execution_count": 6,
   "outputs": [
    {
     "name": "stdout",
     "output_type": "stream",
     "text": [
      "142 174 203\n"
     ]
    }
   ],
   "source": [
    "# BGR value for the first 0,0 pixel\n",
    "B, G, R = image[0, 0]\n",
    "print(B, G, R)"
   ],
   "metadata": {
    "collapsed": false,
    "pycharm": {
     "name": "#%%\n"
    }
   }
  },
  {
   "cell_type": "code",
   "execution_count": 8,
   "outputs": [
    {
     "name": "stdout",
     "output_type": "stream",
     "text": [
      "(945, 1000)\n",
      "166\n"
     ]
    }
   ],
   "source": [
    "# convert it to grayscale and see\n",
    "gray_img = cv2.cvtColor(image, cv2.COLOR_BGR2GRAY)\n",
    "print(gray_img.shape)\n",
    "print(gray_img[10, 50])"
   ],
   "metadata": {
    "collapsed": false,
    "pycharm": {
     "name": "#%%\n"
    }
   }
  },
  {
   "cell_type": "code",
   "execution_count": 9,
   "outputs": [],
   "source": [
    "# testing the color space HSV\n",
    "# H: 0 - 180, S: 0 - 180, V: 0 - 180\n",
    "img = cv2.imread('output.jpg')\n",
    "hsv_image = cv2.cvtColor(img, cv2.COLOR_BGR2HSV)\n",
    "\n",
    "cv2.imshow('HSV image', hsv_image)\n",
    "cv2.imshow('Hue channel', hsv_image[:, :, 0])\n",
    "cv2.imshow('Saturation channel', hsv_image[:, :, 1])\n",
    "cv2.imshow('Value channel', hsv_image[:, :, 2])\n",
    "\n",
    "cv2.waitKey()\n",
    "cv2.destroyAllWindows()"
   ],
   "metadata": {
    "collapsed": false,
    "pycharm": {
     "name": "#%%\n"
    }
   }
  },
  {
   "cell_type": "code",
   "execution_count": 10,
   "outputs": [
    {
     "name": "stdout",
     "output_type": "stream",
     "text": [
      "(945, 1000)\n"
     ]
    }
   ],
   "source": [
    "## Exploring RGB\n",
    "img = cv2.imread('output.jpg')\n",
    "# spliting image into each color index\n",
    "B,G, R = cv2.split(img)\n",
    "print(B.shape)\n",
    "\n",
    "cv2.imshow(\"Red\", R)\n",
    "cv2.imshow(\"Green\", G)\n",
    "cv2.imshow(\"Blue\", B)\n",
    "cv2.waitKey()\n",
    "cv2.destroyAllWindows()"
   ],
   "metadata": {
    "collapsed": false,
    "pycharm": {
     "name": "#%%\n"
    }
   }
  },
  {
   "cell_type": "code",
   "execution_count": 13,
   "outputs": [],
   "source": [
    "# remake the orignal image\n",
    "merged = cv2.merge([B, G, R])\n",
    "cv2.imshow(\"Merged\", merged)\n",
    "\n",
    "# amplify the blue color\n",
    "merged = cv2.merge([B+100, G, R])\n",
    "cv2.imshow(\"Merge th Blue Amplified\", merged)\n",
    "\n",
    "cv2.waitKey(0)\n",
    "cv2.destroyAllWindows()"
   ],
   "metadata": {
    "collapsed": false,
    "pycharm": {
     "name": "#%%\n"
    }
   }
  },
  {
   "cell_type": "code",
   "execution_count": 2,
   "outputs": [
    {
     "data": {
      "text/plain": "<Figure size 432x288 with 1 Axes>",
      "image/png": "[encoded data removed]"
     },
     "metadata": {
      "needs_background": "light"
     },
     "output_type": "display_data"
    },
    {
     "data": {
      "text/plain": "<Figure size 432x288 with 1 Axes>",
      "image/png": "[encoded data removed]"
     },
     "metadata": {
      "needs_background": "light"
     },
     "output_type": "display_data"
    }
   ],
   "source": [
    "## Histograms to visualize colors components\n",
    "# importing the useful libraries\n",
    "import cv2\n",
    "import numpy as np\n",
    "from matplotlib import pyplot as plt\n",
    "\n",
    "image = cv2.imread('image/weather.png')\n",
    "histogram = cv2.calcHist([image],[0],None,[256], [0, 256])\n",
    "\n",
    "# We plot a histogram, ravel() flatens our image array\n",
    "plt.hist(image.ravel(), 256, [0, 256]); plt.show()\n",
    "\n",
    "# Viewing separate color channels\n",
    "color = ('b', 'g', 'r')\n",
    "\n",
    "# we now separate the colors and plot each in the histogram\n",
    "for i, col in enumerate(color):\n",
    "    histogram2 = cv2.calcHist([image], [i], None, [256], [0, 256])\n",
    "    plt.plot(histogram2, color = col)\n",
    "    plt.xlim([0,256])\n",
    "\n",
    "plt.show()"
   ],
   "metadata": {
    "collapsed": false,
    "pycharm": {
     "name": "#%%\n"
    }
   }
  },
  {
   "cell_type": "code",
   "execution_count": 3,
   "outputs": [
    {
     "data": {
      "text/plain": "<Figure size 432x288 with 1 Axes>",
      "image/png": "[encoded data removed]"
     },
     "metadata": {
      "needs_background": "light"
     },
     "output_type": "display_data"
    },
    {
     "data": {
      "text/plain": "<Figure size 432x288 with 1 Axes>",
      "image/png": "[encoded data removed]"
     },
     "metadata": {
      "needs_background": "light"
     },
     "output_type": "display_data"
    }
   ],
   "source": [
    "image2 = cv2.imread('image/plass.jpg')\n",
    "histogram = cv2.calcHist([image2],[0],None,[256], [0, 256])\n",
    "\n",
    "# We plot a histogram, ravel() flatens our image array\n",
    "plt.hist(image2.ravel(), 256, [0, 256]); plt.show()\n",
    "\n",
    "# Viewing separate color channels\n",
    "color = ('b', 'g', 'r')\n",
    "\n",
    "# we now separate the colors and plot each in the histogram\n",
    "for i, col in enumerate(color):\n",
    "    histogram2 = cv2.calcHist([image2], [i], None, [256], [0, 256])\n",
    "    plt.plot(histogram2, color = col)\n",
    "    plt.xlim([0,256])\n",
    "\n",
    "plt.show()\n"
   ],
   "metadata": {
    "collapsed": false,
    "pycharm": {
     "name": "#%%\n"
    }
   }
  },
  {
   "cell_type": "code",
   "execution_count": 4,
   "outputs": [],
   "source": [
    "# create a black image\n",
    "img = np.zeros((512,512,3), np.uint8)\n",
    "\n",
    "# make it black and white\n",
    "image_bw = np.zeros((512,512), np.uint8)\n",
    "\n",
    "cv2.imshow(\"Black Rectangle (Color)\", img)\n",
    "cv2.imshow(\"Black Rectangle (B&W)\", image_bw)\n",
    "\n",
    "cv2.waitKey(0)\n",
    "cv2.destroyAllWindows()"
   ],
   "metadata": {
    "collapsed": false,
    "pycharm": {
     "name": "#%%Drawing images and shape\n"
    }
   }
  },
  {
   "cell_type": "code",
   "execution_count": 6,
   "outputs": [],
   "source": [
    "# Draw a rectangle inside\n",
    "image = np.zeros((512,512,3), np.uint8)\n",
    "\n",
    "cv2.rectangle(image,(100,100),(300, 250), (127, 50, 127), 5)\n",
    "cv2.imshow(\"rectangle\", image)\n",
    "cv2.waitKey(0)\n",
    "cv2.destroyAllWindows()\n"
   ],
   "metadata": {
    "collapsed": false,
    "pycharm": {
     "name": "#%%\n"
    }
   }
  },
  {
   "cell_type": "code",
   "execution_count": 7,
   "outputs": [],
   "source": [
    "# drawing a diagonal blue line inside\n",
    "image = np.zeros((512, 512, 3), np.uint8)\n",
    "\n",
    "cv2.line(image, (0,0), (511, 511), (255, 127, 0),5)\n",
    "cv2.imshow(\"Blue Line\", image)\n",
    "\n",
    "cv2.waitKey(0)\n",
    "cv2.destroyAllWindows()"
   ],
   "metadata": {
    "collapsed": false,
    "pycharm": {
     "name": "#%%\n"
    }
   }
  },
  {
   "cell_type": "code",
   "execution_count": 8,
   "outputs": [],
   "source": [
    "# Drawing circles\n",
    "image = np.zeros((512, 512, 3), np.uint8)\n",
    "\n",
    "cv2.circle(image, (350, 350), 100, (15,75,50),-1)\n",
    "cv2.imshow(\"Circle\", image)\n",
    "cv2.waitKey(0)\n",
    "cv2.destroyAllWindows()"
   ],
   "metadata": {
    "collapsed": false,
    "pycharm": {
     "name": "#%%\n"
    }
   }
  },
  {
   "cell_type": "code",
   "execution_count": 9,
   "outputs": [],
   "source": [
    "# Drawing Polygons\n",
    "\n",
    "image = np.zeros((512,512,3), np.uint8)\n",
    "\n",
    "# let's define four points\n",
    "pts = np.array([[10, 50], [400,50], [90,200], [50,500]], np.int32)\n",
    "\n",
    "# Let's now reshape our points in form required by polylines\n",
    "pts = pts.reshape((-1, 1, 2))\n",
    "\n",
    "cv2.polylines(image,[pts], True, (0,0,255), 3)\n",
    "cv2.imshow(\"Polygon\", image)\n",
    "cv2.waitKey(0)\n",
    "cv2.destroyAllWindows()"
   ],
   "metadata": {
    "collapsed": false,
    "pycharm": {
     "name": "#%%\n"
    }
   }
  },
  {
   "cell_type": "code",
   "execution_count": 3,
   "outputs": [],
   "source": [
    "import cv2\n",
    "import numpy as np\n",
    "# Showing Text to screen\n",
    "image = np.zeros((512, 512, 3), np.uint8)\n",
    "\n",
    "cv2.putText(image, 'Hello World!', (75,200), cv2.FONT_HERSHEY_COMPLEX, 2,(100, 170,0), 3)\n",
    "cv2.imshow(\"Hello World!\", image)\n",
    "cv2.waitKey(0)\n",
    "cv2.destroyAllWindows()\n"
   ],
   "metadata": {
    "collapsed": false,
    "pycharm": {
     "name": "#%%\n"
    }
   }
  },
  {
   "cell_type": "code",
   "execution_count": 3,
   "outputs": [],
   "source": [
    "### Translations(transformation that shift the position of an image) in OpenCV\n",
    "import cv2\n",
    "import numpy as np\n",
    "image = cv2.imread(\"image/plass.jpg\")\n",
    "\n",
    "# Store the height and width of the image\n",
    "height, width = image.shape[:2]\n",
    "\n",
    "quarter_height, quarter_width = height/4, width/4\n",
    "#     | 1 0 Tx |\n",
    "# T = | 0 1 Ty |\n",
    "\n",
    "# creating the transformation matrix\n",
    "T = np.float32([[1, 0, quarter_width], [0, 1, quarter_height]])\n",
    "\n",
    "# We use warpAffine to transform the image using the matrix, T\n",
    "img_translation = cv2.warpAffine(image,T,(width,height))\n",
    "cv2.imshow('Translation', img_translation)\n",
    "cv2.waitKey()\n",
    "cv2.destroyAllWindows()"
   ],
   "metadata": {
    "collapsed": false,
    "pycharm": {
     "name": "#%%\n"
    }
   }
  },
  {
   "cell_type": "code",
   "execution_count": 1,
   "outputs": [],
   "source": [
    "# Rotations with cv2.getRotationMatrix2D(rotation_center_x,rotation_center_y,angle of rotation, scale)\n",
    "import cv2\n",
    "import numpy as np\n",
    "\n",
    "image = cv2.imread('output.jpg')\n",
    "height, width = image.shape[:2]\n",
    "\n",
    "# Divide by two to rotate the around the centre\n",
    "rotation_matrix = cv2.getRotationMatrix2D((width/2, height/2),90, 1)\n",
    "\n",
    "rotated_image = cv2.warpAffine(image,rotation_matrix,(width, height))\n",
    "\n",
    "cv2.imshow('Rotated image', rotated_image)\n",
    "cv2.waitKey()\n",
    "cv2.destroyAllWindows()"
   ],
   "metadata": {
    "collapsed": false,
    "pycharm": {
     "name": "#%%\n"
    }
   }
  },
  {
   "cell_type": "code",
   "execution_count": 2,
   "outputs": [],
   "source": [
    "#Rotating using transpose whci rotate image without black space around\n",
    "rotated_image2 = cv2.transpose(image)\n",
    "\n",
    "cv2.imshow('Rotated image 2', rotated_image2)\n",
    "cv2.waitKey()\n",
    "cv2.destroyAllWindows()"
   ],
   "metadata": {
    "collapsed": false,
    "pycharm": {
     "name": "#%%\n"
    }
   }
  },
  {
   "cell_type": "code",
   "execution_count": null,
   "outputs": [],
   "source": [],
   "metadata": {
    "collapsed": false,
    "pycharm": {
     "name": "#%%\n"
    }
   }
  }
 ],
 "metadata": {
  "kernelspec": {
   "name": "pycharm-472eeb61",
   "language": "python",
   "display_name": "PyCharm (OpenCV)"
  },
  "language_info": {
   "codemirror_mode": {
    "name": "ipython",
    "version": 2
   },
   "file_extension": ".py",
   "mimetype": "text/x-python",
   "name": "python",
   "nbconvert_exporter": "python",
   "pygments_lexer": "ipython2",
   "version": "2.7.6"
  }
 },
 "nbformat": 4,
 "nbformat_minor": 0
}